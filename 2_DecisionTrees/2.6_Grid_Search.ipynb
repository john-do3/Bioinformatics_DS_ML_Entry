{
 "cells": [
  {
   "cell_type": "markdown",
   "metadata": {},
   "source": [
    "Применим GridSearch для автоподбора оптимальных параметров обучения"
   ]
  },
  {
   "cell_type": "code",
   "execution_count": 11,
   "metadata": {},
   "outputs": [
    {
     "data": {
      "text/plain": [
       "DecisionTreeClassifier(class_weight=None, criterion='gini', max_depth=None,\n",
       "                       max_features=None, max_leaf_nodes=None,\n",
       "                       min_impurity_decrease=0.0, min_impurity_split=None,\n",
       "                       min_samples_leaf=1, min_samples_split=2,\n",
       "                       min_weight_fraction_leaf=0.0, presort=False,\n",
       "                       random_state=None, splitter='best')"
      ]
     },
     "execution_count": 11,
     "metadata": {},
     "output_type": "execute_result"
    }
   ],
   "source": [
    "from sklearn import tree\n",
    "import pandas as pd\n",
    "import matplotlib.pyplot as plt\n",
    "import seaborn as sns\n",
    "import numpy as np\n",
    "%matplotlib inline\n",
    "from sklearn.model_selection import GridSearchCV\n",
    "from sklearn.model_selection import train_test_split\n",
    "\n",
    "titanic_data = pd.read_csv('train.csv')\n",
    "X = titanic_data.drop(['PassengerId','Survived','Name', 'Ticket', 'Cabin'], axis=1)\n",
    "X = pd.get_dummies(X)\n",
    "X = X.fillna({'Age': X.Age.median()})\n",
    "y = titanic_data.Survived\n",
    "\n",
    "X_train, X_test, y_train, y_test =  train_test_split(X, y, test_size=0.33, random_state=42)\n",
    "\n",
    "clf = tree.DecisionTreeClassifier()\n",
    "clf"
   ]
  },
  {
   "cell_type": "code",
   "execution_count": 20,
   "metadata": {},
   "outputs": [
    {
     "data": {
      "text/plain": [
       "GridSearchCV(cv=5, error_score='raise-deprecating',\n",
       "             estimator=DecisionTreeClassifier(class_weight=None,\n",
       "                                              criterion='gini', max_depth=None,\n",
       "                                              max_features=None,\n",
       "                                              max_leaf_nodes=None,\n",
       "                                              min_impurity_decrease=0.0,\n",
       "                                              min_impurity_split=None,\n",
       "                                              min_samples_leaf=1,\n",
       "                                              min_samples_split=2,\n",
       "                                              min_weight_fraction_leaf=0.0,\n",
       "                                              presort=False, random_state=None,\n",
       "                                              splitter='best'),\n",
       "             iid='warn', n_jobs=None,\n",
       "             param_grid={'criterion': ['gini', 'entropy'],\n",
       "                         'max_depth': range(1, 30)},\n",
       "             pre_dispatch='2*n_jobs', refit=True, return_train_score=False,\n",
       "             scoring=None, verbose=0)"
      ]
     },
     "execution_count": 20,
     "metadata": {},
     "output_type": "execute_result"
    }
   ],
   "source": [
    "parametrs = {'criterion': ['gini', 'entropy'], 'max_depth': range(1, 30)}\n",
    "grid_search_cv_clf = GridSearchCV(clf, parametrs, cv=5)\n",
    "grid_search_cv_clf.fit(X_train, y_train)"
   ]
  },
  {
   "cell_type": "code",
   "execution_count": 21,
   "metadata": {},
   "outputs": [
    {
     "data": {
      "text/plain": [
       "{'criterion': 'entropy', 'max_depth': 5}"
      ]
     },
     "execution_count": 21,
     "metadata": {},
     "output_type": "execute_result"
    }
   ],
   "source": [
    "grid_search_cv_clf.best_params_"
   ]
  },
  {
   "cell_type": "code",
   "execution_count": 22,
   "metadata": {},
   "outputs": [
    {
     "data": {
      "text/plain": [
       "0.8101694915254237"
      ]
     },
     "execution_count": 22,
     "metadata": {},
     "output_type": "execute_result"
    }
   ],
   "source": [
    "best_clf = grid_search_cv_clf.best_estimator_\n",
    "best_clf.score(X_test, y_test)"
   ]
  },
  {
   "cell_type": "code",
   "execution_count": 23,
   "metadata": {},
   "outputs": [
    {
     "data": {
      "text/plain": [
       "0.7962962962962963"
      ]
     },
     "execution_count": 23,
     "metadata": {},
     "output_type": "execute_result"
    }
   ],
   "source": [
    "# посчитаем precision\n",
    "from sklearn.metrics import precision_score, recall_score\n",
    "y_pred = best_clf.predict(X_test)\n",
    "precision_score(y_test, y_pred)"
   ]
  },
  {
   "cell_type": "code",
   "execution_count": 24,
   "metadata": {},
   "outputs": [
    {
     "data": {
      "text/plain": [
       "0.7166666666666667"
      ]
     },
     "execution_count": 24,
     "metadata": {},
     "output_type": "execute_result"
    }
   ],
   "source": [
    "# и recall\n",
    "recall_score(y_test, y_pred)"
   ]
  },
  {
   "cell_type": "code",
   "execution_count": 27,
   "metadata": {},
   "outputs": [
    {
     "data": {
      "text/plain": [
       "array([[0.875     , 0.125     ],\n",
       "       [0.875     , 0.125     ],\n",
       "       [0.875     , 0.125     ],\n",
       "       [0.        , 1.        ],\n",
       "       [0.49056604, 0.50943396],\n",
       "       [0.5       , 0.5       ],\n",
       "       [0.49056604, 0.50943396],\n",
       "       [0.875     , 0.125     ],\n",
       "       [0.49056604, 0.50943396],\n",
       "       [0.        , 1.        ],\n",
       "       [0.44      , 0.56      ],\n",
       "       [0.875     , 0.125     ],\n",
       "       [1.        , 0.        ],\n",
       "       [0.875     , 0.125     ],\n",
       "       [0.875     , 0.125     ],\n",
       "       [0.        , 1.        ],\n",
       "       [0.75      , 0.25      ],\n",
       "       [0.49056604, 0.50943396],\n",
       "       [0.875     , 0.125     ],\n",
       "       [1.        , 0.        ],\n",
       "       [0.875     , 0.125     ],\n",
       "       [0.67647059, 0.32352941],\n",
       "       [0.49056604, 0.50943396],\n",
       "       [0.875     , 0.125     ],\n",
       "       [0.875     , 0.125     ],\n",
       "       [0.875     , 0.125     ],\n",
       "       [0.67647059, 0.32352941],\n",
       "       [0.875     , 0.125     ],\n",
       "       [0.875     , 0.125     ],\n",
       "       [0.49056604, 0.50943396],\n",
       "       [0.875     , 0.125     ],\n",
       "       [0.49056604, 0.50943396],\n",
       "       [0.67647059, 0.32352941],\n",
       "       [0.49056604, 0.50943396],\n",
       "       [0.875     , 0.125     ],\n",
       "       [0.875     , 0.125     ],\n",
       "       [0.67647059, 0.32352941],\n",
       "       [0.49056604, 0.50943396],\n",
       "       [0.01492537, 0.98507463],\n",
       "       [0.875     , 0.125     ],\n",
       "       [1.        , 0.        ],\n",
       "       [0.875     , 0.125     ],\n",
       "       [0.875     , 0.125     ],\n",
       "       [0.875     , 0.125     ],\n",
       "       [1.        , 0.        ],\n",
       "       [0.875     , 0.125     ],\n",
       "       [0.875     , 0.125     ],\n",
       "       [0.875     , 0.125     ],\n",
       "       [0.875     , 0.125     ],\n",
       "       [0.75      , 0.25      ],\n",
       "       [0.25      , 0.75      ],\n",
       "       [0.01492537, 0.98507463],\n",
       "       [0.875     , 0.125     ],\n",
       "       [0.44      , 0.56      ],\n",
       "       [0.875     , 0.125     ],\n",
       "       [0.        , 1.        ],\n",
       "       [0.875     , 0.125     ],\n",
       "       [0.01492537, 0.98507463],\n",
       "       [0.01492537, 0.98507463],\n",
       "       [0.49056604, 0.50943396],\n",
       "       [0.875     , 0.125     ],\n",
       "       [0.        , 1.        ],\n",
       "       [0.01492537, 0.98507463],\n",
       "       [0.67647059, 0.32352941],\n",
       "       [0.875     , 0.125     ],\n",
       "       [0.01492537, 0.98507463],\n",
       "       [0.44      , 0.56      ],\n",
       "       [0.875     , 0.125     ],\n",
       "       [0.875     , 0.125     ],\n",
       "       [0.01492537, 0.98507463],\n",
       "       [0.5       , 0.5       ],\n",
       "       [0.        , 1.        ],\n",
       "       [0.67647059, 0.32352941],\n",
       "       [0.01492537, 0.98507463],\n",
       "       [0.875     , 0.125     ],\n",
       "       [0.875     , 0.125     ],\n",
       "       [0.49056604, 0.50943396],\n",
       "       [0.        , 1.        ],\n",
       "       [0.01492537, 0.98507463],\n",
       "       [1.        , 0.        ],\n",
       "       [1.        , 0.        ],\n",
       "       [0.01492537, 0.98507463],\n",
       "       [0.01492537, 0.98507463],\n",
       "       [0.875     , 0.125     ],\n",
       "       [0.67647059, 0.32352941],\n",
       "       [1.        , 0.        ],\n",
       "       [0.01492537, 0.98507463],\n",
       "       [0.01492537, 0.98507463],\n",
       "       [0.67647059, 0.32352941],\n",
       "       [0.875     , 0.125     ],\n",
       "       [0.875     , 0.125     ],\n",
       "       [1.        , 0.        ],\n",
       "       [0.67647059, 0.32352941],\n",
       "       [0.875     , 0.125     ],\n",
       "       [0.875     , 0.125     ],\n",
       "       [0.875     , 0.125     ],\n",
       "       [1.        , 0.        ],\n",
       "       [0.875     , 0.125     ],\n",
       "       [0.01492537, 0.98507463],\n",
       "       [0.875     , 0.125     ],\n",
       "       [0.67647059, 0.32352941],\n",
       "       [0.875     , 0.125     ],\n",
       "       [0.        , 1.        ],\n",
       "       [0.875     , 0.125     ],\n",
       "       [0.875     , 0.125     ],\n",
       "       [0.875     , 0.125     ],\n",
       "       [0.01492537, 0.98507463],\n",
       "       [1.        , 0.        ],\n",
       "       [0.875     , 0.125     ],\n",
       "       [0.67647059, 0.32352941],\n",
       "       [0.01492537, 0.98507463],\n",
       "       [0.875     , 0.125     ],\n",
       "       [0.01492537, 0.98507463],\n",
       "       [0.67647059, 0.32352941],\n",
       "       [0.44      , 0.56      ],\n",
       "       [0.875     , 0.125     ],\n",
       "       [0.67647059, 0.32352941],\n",
       "       [0.875     , 0.125     ],\n",
       "       [0.        , 1.        ],\n",
       "       [1.        , 0.        ],\n",
       "       [0.875     , 0.125     ],\n",
       "       [0.01492537, 0.98507463],\n",
       "       [0.01492537, 0.98507463],\n",
       "       [0.        , 1.        ],\n",
       "       [0.875     , 0.125     ],\n",
       "       [0.67647059, 0.32352941],\n",
       "       [0.01492537, 0.98507463],\n",
       "       [0.44      , 0.56      ],\n",
       "       [0.49056604, 0.50943396],\n",
       "       [0.875     , 0.125     ],\n",
       "       [0.49056604, 0.50943396],\n",
       "       [0.875     , 0.125     ],\n",
       "       [0.875     , 0.125     ],\n",
       "       [0.49056604, 0.50943396],\n",
       "       [0.75      , 0.25      ],\n",
       "       [0.49056604, 0.50943396],\n",
       "       [0.01492537, 0.98507463],\n",
       "       [0.875     , 0.125     ],\n",
       "       [0.875     , 0.125     ],\n",
       "       [0.25      , 0.75      ],\n",
       "       [0.875     , 0.125     ],\n",
       "       [0.01492537, 0.98507463],\n",
       "       [0.875     , 0.125     ],\n",
       "       [0.875     , 0.125     ],\n",
       "       [1.        , 0.        ],\n",
       "       [0.01492537, 0.98507463],\n",
       "       [0.875     , 0.125     ],\n",
       "       [0.875     , 0.125     ],\n",
       "       [0.01492537, 0.98507463],\n",
       "       [0.875     , 0.125     ],\n",
       "       [0.875     , 0.125     ],\n",
       "       [0.875     , 0.125     ],\n",
       "       [0.875     , 0.125     ],\n",
       "       [1.        , 0.        ],\n",
       "       [0.875     , 0.125     ],\n",
       "       [0.875     , 0.125     ],\n",
       "       [0.44      , 0.56      ],\n",
       "       [0.49056604, 0.50943396],\n",
       "       [0.01492537, 0.98507463],\n",
       "       [0.25      , 0.75      ],\n",
       "       [0.875     , 0.125     ],\n",
       "       [0.67647059, 0.32352941],\n",
       "       [0.875     , 0.125     ],\n",
       "       [0.01492537, 0.98507463],\n",
       "       [0.875     , 0.125     ],\n",
       "       [0.75      , 0.25      ],\n",
       "       [0.875     , 0.125     ],\n",
       "       [0.01492537, 0.98507463],\n",
       "       [0.875     , 0.125     ],\n",
       "       [0.875     , 0.125     ],\n",
       "       [0.44      , 0.56      ],\n",
       "       [0.        , 1.        ],\n",
       "       [0.67647059, 0.32352941],\n",
       "       [0.25      , 0.75      ],\n",
       "       [0.875     , 0.125     ],\n",
       "       [0.875     , 0.125     ],\n",
       "       [1.        , 0.        ],\n",
       "       [0.        , 1.        ],\n",
       "       [0.25      , 0.75      ],\n",
       "       [0.67647059, 0.32352941],\n",
       "       [0.875     , 0.125     ],\n",
       "       [0.875     , 0.125     ],\n",
       "       [0.875     , 0.125     ],\n",
       "       [1.        , 0.        ],\n",
       "       [0.44      , 0.56      ],\n",
       "       [0.67647059, 0.32352941],\n",
       "       [0.875     , 0.125     ],\n",
       "       [0.875     , 0.125     ],\n",
       "       [0.67647059, 0.32352941],\n",
       "       [0.01492537, 0.98507463],\n",
       "       [0.875     , 0.125     ],\n",
       "       [0.875     , 0.125     ],\n",
       "       [0.875     , 0.125     ],\n",
       "       [0.875     , 0.125     ],\n",
       "       [0.01492537, 0.98507463],\n",
       "       [0.01492537, 0.98507463],\n",
       "       [0.01492537, 0.98507463],\n",
       "       [0.875     , 0.125     ],\n",
       "       [0.        , 1.        ],\n",
       "       [1.        , 0.        ],\n",
       "       [0.875     , 0.125     ],\n",
       "       [0.49056604, 0.50943396],\n",
       "       [0.        , 1.        ],\n",
       "       [1.        , 0.        ],\n",
       "       [0.875     , 0.125     ],\n",
       "       [0.25      , 0.75      ],\n",
       "       [0.875     , 0.125     ],\n",
       "       [0.44      , 0.56      ],\n",
       "       [0.875     , 0.125     ],\n",
       "       [0.875     , 0.125     ],\n",
       "       [0.44      , 0.56      ],\n",
       "       [0.875     , 0.125     ],\n",
       "       [0.01492537, 0.98507463],\n",
       "       [0.875     , 0.125     ],\n",
       "       [1.        , 0.        ],\n",
       "       [0.        , 1.        ],\n",
       "       [0.5       , 0.5       ],\n",
       "       [0.75      , 0.25      ],\n",
       "       [0.5       , 0.5       ],\n",
       "       [0.875     , 0.125     ],\n",
       "       [0.875     , 0.125     ],\n",
       "       [0.        , 1.        ],\n",
       "       [0.875     , 0.125     ],\n",
       "       [0.67647059, 0.32352941],\n",
       "       [0.875     , 0.125     ],\n",
       "       [0.        , 1.        ],\n",
       "       [0.875     , 0.125     ],\n",
       "       [0.        , 1.        ],\n",
       "       [0.        , 1.        ],\n",
       "       [0.49056604, 0.50943396],\n",
       "       [0.875     , 0.125     ],\n",
       "       [0.        , 1.        ],\n",
       "       [0.875     , 0.125     ],\n",
       "       [0.49056604, 0.50943396],\n",
       "       [0.875     , 0.125     ],\n",
       "       [0.49056604, 0.50943396],\n",
       "       [0.01492537, 0.98507463],\n",
       "       [0.49056604, 0.50943396],\n",
       "       [0.01492537, 0.98507463],\n",
       "       [0.875     , 0.125     ],\n",
       "       [0.875     , 0.125     ],\n",
       "       [0.01492537, 0.98507463],\n",
       "       [0.875     , 0.125     ],\n",
       "       [0.49056604, 0.50943396],\n",
       "       [0.875     , 0.125     ],\n",
       "       [0.875     , 0.125     ],\n",
       "       [0.875     , 0.125     ],\n",
       "       [0.875     , 0.125     ],\n",
       "       [0.875     , 0.125     ],\n",
       "       [0.67647059, 0.32352941],\n",
       "       [0.49056604, 0.50943396],\n",
       "       [0.875     , 0.125     ],\n",
       "       [0.875     , 0.125     ],\n",
       "       [0.875     , 0.125     ],\n",
       "       [1.        , 0.        ],\n",
       "       [0.875     , 0.125     ],\n",
       "       [0.875     , 0.125     ],\n",
       "       [0.01492537, 0.98507463],\n",
       "       [0.875     , 0.125     ],\n",
       "       [0.01492537, 0.98507463],\n",
       "       [0.        , 1.        ],\n",
       "       [0.75      , 0.25      ],\n",
       "       [0.01492537, 0.98507463],\n",
       "       [0.875     , 0.125     ],\n",
       "       [0.67647059, 0.32352941],\n",
       "       [0.67647059, 0.32352941],\n",
       "       [0.875     , 0.125     ],\n",
       "       [0.67647059, 0.32352941],\n",
       "       [0.44      , 0.56      ],\n",
       "       [0.875     , 0.125     ],\n",
       "       [0.49056604, 0.50943396],\n",
       "       [0.875     , 0.125     ],\n",
       "       [0.875     , 0.125     ],\n",
       "       [0.44      , 0.56      ],\n",
       "       [0.01492537, 0.98507463],\n",
       "       [0.875     , 0.125     ],\n",
       "       [0.875     , 0.125     ],\n",
       "       [0.875     , 0.125     ],\n",
       "       [0.01492537, 0.98507463],\n",
       "       [0.875     , 0.125     ],\n",
       "       [0.875     , 0.125     ],\n",
       "       [0.875     , 0.125     ],\n",
       "       [0.01492537, 0.98507463],\n",
       "       [0.875     , 0.125     ],\n",
       "       [0.875     , 0.125     ],\n",
       "       [1.        , 0.        ],\n",
       "       [0.49056604, 0.50943396],\n",
       "       [0.875     , 0.125     ],\n",
       "       [0.        , 1.        ],\n",
       "       [0.875     , 0.125     ],\n",
       "       [0.875     , 0.125     ],\n",
       "       [0.875     , 0.125     ],\n",
       "       [0.25      , 0.75      ],\n",
       "       [0.25      , 0.75      ],\n",
       "       [0.875     , 0.125     ]])"
      ]
     },
     "execution_count": 27,
     "metadata": {},
     "output_type": "execute_result"
    }
   ],
   "source": [
    "# вероятности отнесения к классу выживших/погибших для тестовых данных\n",
    "y_predicted_prob = best_clf.predict_proba(X_test)\n",
    "y_predicted_prob"
   ]
  },
  {
   "cell_type": "code",
   "execution_count": 28,
   "metadata": {},
   "outputs": [
    {
     "data": {
      "text/plain": [
       "<matplotlib.axes._subplots.AxesSubplot at 0x55bcb38>"
      ]
     },
     "execution_count": 28,
     "metadata": {},
     "output_type": "execute_result"
    },
    {
     "data": {
      "image/png": "[encoded data removed]",
      "text/plain": [
       "<Figure size 432x288 with 1 Axes>"
      ]
     },
     "metadata": {
      "needs_background": "light"
     },
     "output_type": "display_data"
    }
   ],
   "source": [
    "pd.Series(y_predicted_prob[:, 1]).hist()"
   ]
  },
  {
   "cell_type": "code",
   "execution_count": 30,
   "metadata": {},
   "outputs": [
    {
     "data": {
      "text/plain": [
       "array([0.125     , 1.        , 0.50943396, 0.5       , 0.56      ,\n",
       "       0.        , 0.25      , 0.32352941, 0.98507463, 0.75      ])"
      ]
     },
     "execution_count": 30,
     "metadata": {},
     "output_type": "execute_result"
    }
   ],
   "source": [
    "# включим в класс положительных всех с вероятностью > 0.9\n",
    "y_pred = np.where(y_predicted_prob[:, 1] > 0.9, 1, 0)\n",
    "pd.Series(y_predicted_prob[:, 1]).unique()"
   ]
  },
  {
   "cell_type": "code",
   "execution_count": 31,
   "metadata": {},
   "outputs": [
    {
     "data": {
      "text/plain": [
       "0.9206349206349206"
      ]
     },
     "execution_count": 31,
     "metadata": {},
     "output_type": "execute_result"
    }
   ],
   "source": [
    "# посмотрим на precision\n",
    "precision_score(y_test, y_pred)"
   ]
  },
  {
   "cell_type": "code",
   "execution_count": 32,
   "metadata": {},
   "outputs": [
    {
     "data": {
      "text/plain": [
       "0.48333333333333334"
      ]
     },
     "execution_count": 32,
     "metadata": {},
     "output_type": "execute_result"
    }
   ],
   "source": [
    "# и recall\n",
    "recall_score(y_test, y_pred)"
   ]
  },
  {
   "cell_type": "code",
   "execution_count": 33,
   "metadata": {},
   "outputs": [
    {
     "data": {
      "image/png": "[encoded data removed]",
      "text/plain": [
       "<Figure size 432x288 with 1 Axes>"
      ]
     },
     "metadata": {
      "needs_background": "light"
     },
     "output_type": "display_data"
    }
   ],
   "source": [
    "from sklearn.metrics import roc_curve, auc\n",
    "fpr, tpr, thresholds = roc_curve(y_test, y_predicted_prob[:,1])\n",
    "roc_auc= auc(fpr, tpr)\n",
    "plt.figure()\n",
    "plt.plot(fpr, tpr, color='darkorange', label='ROC curve (area = %0.2f)' % roc_auc)\n",
    "plt.plot([0, 1], [0, 1], color='navy', linestyle='--')\n",
    "plt.xlim([0.0, 1.0])\n",
    "plt.ylim([0.0, 1.05])\n",
    "plt.xlabel('False Positive Rate')\n",
    "plt.ylabel('True Positive Rate')\n",
    "plt.title('Receiver operating characteristic example')\n",
    "plt.legend(loc=\"lower right\")\n",
    "plt.show()"
   ]
  }
 ],
 "metadata": {
  "kernelspec": {
   "display_name": "Python 3",
   "language": "python",
   "name": "python3"
  },
  "language_info": {
   "codemirror_mode": {
    "name": "ipython",
    "version": 3
   },
   "file_extension": ".py",
   "mimetype": "text/x-python",
   "name": "python",
   "nbconvert_exporter": "python",
   "pygments_lexer": "ipython3",
   "version": "3.7.3"
  }
 },
 "nbformat": 4,
 "nbformat_minor": 2
}
